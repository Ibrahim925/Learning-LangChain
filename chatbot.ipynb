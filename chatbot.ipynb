{
 "cells": [
  {
   "cell_type": "markdown",
   "metadata": {},
   "source": [
    "## Personal Knowledge Base Expert"
   ]
  },
  {
   "cell_type": "code",
   "execution_count": 2,
   "metadata": {},
   "outputs": [],
   "source": [
    "import os\n",
    "from dotenv import load_dotenv, find_dotenv"
   ]
  },
  {
   "cell_type": "code",
   "execution_count": 3,
   "metadata": {},
   "outputs": [
    {
     "data": {
      "text/plain": [
       "True"
      ]
     },
     "execution_count": 3,
     "metadata": {},
     "output_type": "execute_result"
    }
   ],
   "source": [
    "load_dotenv(find_dotenv(), override=True)"
   ]
  },
  {
   "cell_type": "markdown",
   "metadata": {},
   "source": [
    "### 1. Prepare the Document"
   ]
  },
  {
   "cell_type": "markdown",
   "metadata": {},
   "source": [
    "#### 1.1 Data Loading"
   ]
  },
  {
   "cell_type": "code",
   "execution_count": 4,
   "metadata": {},
   "outputs": [],
   "source": [
    "\"\"\"\n",
    "Loads a PDF as an array of LangChain documents given a file_path\n",
    "\"\"\"\n",
    "def load_pdf(file_path):\n",
    "    from langchain.document_loaders import PyPDFLoader\n",
    "    print(f\"Loading {file_path}\")\n",
    "    loader = PyPDFLoader(file_path)\n",
    "    return loader.load()\n",
    "\n",
    "\"\"\"\n",
    "Loads load_max_docs number of Wikipedia pages relevant to query in lang as an array of LangChain documents\n",
    "\"\"\"\n",
    "def load_from_wikipedia(query, lang=\"en\", load_max_docs=2):\n",
    "    from langchain.document_loaders import WikipediaLoader\n",
    "    loader = WikipediaLoader(query=query, lang=lang, load_max_docs=load_max_docs)\n",
    "    return loader.load()"
   ]
  },
  {
   "cell_type": "code",
   "execution_count": 5,
   "metadata": {},
   "outputs": [
    {
     "name": "stdout",
     "output_type": "stream",
     "text": [
      "Loading ../data/us_constitution.pdf\n"
     ]
    },
    {
     "data": {
      "text/plain": [
       "[Document(page_content=' \\nNATIONAL  CONSTITUTION  CENTER   \\n   \\n \\n \\n \\n \\n  \\n \\nTHE  \\nCONSTITUTION  \\nof the United  States \\n \\n \\n \\n \\n \\n  \\n \\n  \\n \\n   \\n \\n  \\n \\n  \\n \\n  \\n \\n  \\n \\n  \\n \\n   \\n ', metadata={'source': '../data/us_constitution.pdf', 'page': 0}),\n",
       " Document(page_content='C O N S T I T U T I O N O F T H E U N I T E D S T A T E S   \\n \\n \\n \\nWe the People of the United States, in Order to form a \\nmore perfect Union, establish Justice, insure domestic \\nTranquility, provide for the common defence, promote \\nthe general  Welfare, and secure the Blessings of Liberty to \\nourselves  and our Posterity,  do ordain  and establish  this \\nConstitution for the United States of America  \\n \\n \\nArticle.   I. \\nSECTION.  1 \\nAll legislative Powers herein granted shall be vested in a \\nCongress of the United States, which shall consist of a Sen-  \\nate and House of Representatives. \\nSECTI ON. 2 \\nThe House of Representatives shall be composed of Mem-  \\nbers chosen every second Year by the People of the several States, and the Electors in each State shall have the Qualifi-  \\ncations requisite for Electors of the most numerous Branch \\nof the State Legislature.  \\nNo Person shall be a Representative who shall not have \\nattained to the Age of twenty five Years, and been seven \\nYears a Citizen of the United States, and who shal l not, \\nwhen elected, be an Inhabitant of that State in which he shall be chosen.  \\n[Representatives and direct Taxes shall be apportioned among the several States which may be included within  \\nthis Union, according to their respective Numbers, which \\nshall be determined by adding to the whole Number of  \\nfree Persons, including those bound to Service for a  Term \\nof Years, and excluding Indians not taxed, three fifths of  \\nall other Persons.]*  The actual Enumeration shall be made  within three Years after the first M eeting of the Congress  \\nof the United States, and within every subsequent  Term of \\nten Years, in such Manner as they shall by Law direct. The \\nNumber of Representatives shall not exceed one for every \\nthirty Thousand, but each State shall have at Least one \\nRepresentative; and until such enumeration shall be made, \\nthe State of New Hampshire shall be entitled to chuse  \\nthree, Massachusetts eight, Rhode -Island and Providence \\nPlantations one, Connecticut five, New -York six, New \\nJersey four, Pennsylvania eight, Delaw are one, Maryland  \\nsix, Virginia ten, North Carolina five, South Carolina five, \\nand Georgia three.  \\nWhen vacancies happen in the Representation from any \\nState, the Executive Authority thereof shall issue  Writs of \\nElection to fill such Vacancies.  \\nThe House of  Representatives shall chuse their \\nSpeaker and other Officers; and shall have the sole Power of Impeachment.  \\nSECTION.  3 \\nThe Senate of the United States shall be composed of two Senators from each State, [chosen by the Legislature there - \\nof,]* for six Years; and each Senator shall have one Vote.  \\nImmediately after they shall be assembled in Consequence of the first Election, they shall be divided as equally as may \\nbe into three Classes. The Seats of the Senators of the first \\nClass shall be vacated at the Expiration of the second Year, \\nof the second  Class  at the Expiration of the fourth Year, and \\nof the third Class at the Expiration of the sixth Year, so that \\none third may be chosen every second Year; [and if Vacan-  \\ncies happen by Resignation, or otherwise, during the Recess of the Legislature of any State, the Executive thereof may make temporary Appointments until the next Mee ting of  \\nthe Legislature, which shall then fill such Vacancies.]*  \\n', metadata={'source': '../data/us_constitution.pdf', 'page': 1}),\n",
       " Document(page_content='C O N S T I T U T I O N O F T H E U N I T E D S T A T E S  No Person shall be a Senator who shall not have attained  \\nto the Age of thirty  Years, and been nine Years  a Citizen  of \\nthe United States, and who shall not, when elected, be an \\nInhabitant of that State for which he shall be chosen  \\nThe Vice President of the United States shall be \\nPresident of the Senate, but shall have no Vote, unless \\nthey be equally divided.  \\nThe Senate  shall chuse  their other  Officers,  and also a \\nPresident pro tempore, in the Absence of the  Vice \\nPresident, or when he shall exercise the Office of \\nPresident of the United States  \\nThe Senate shall have the sole Power to try all Impeach-  \\nments. When sitting for that Purpose, they shall be on  \\nOath or Affirmation. When the President of the United \\nStates is tried, the Chief Justice shall preside: And no \\nPerson shall be convicted without the Concurrence of two thirds of the Members present.  \\nJudgment in Cases of Imp eachment shall not extend \\nfurther than to removal from Office, and disqualification to \\nhold and enjoy  any Office  of honor,  Trust  or Profit  under \\nthe United States: but the Party convicted shall nevertheless \\nbe liable and subject to Indictment,  Trial, Judgment and \\nPunishment, according to Law.  \\nSECTION.  4 \\nThe Times, Places and Manner of holding Elections for Senators and Representatives, shall be pre scribed in each \\nState by the Legislature thereof; but the Congress may at any time by Law make or alter such Regulations, except as \\nto the Places of chusing Senators. \\nThe Congress  shall assemble  at least once in every Year, and \\nsuch Meeting shall be [on the first Monday in December,]* \\nunless they shall by Law appoint a different Day. \\nSECTION.  5. \\nEach House shall be the Judge of the Elections, Returns \\nand Qualifications of its own Members, and a Majority  \\nof each shall constitute a Quorum to do Business; but a smaller Number  may adjourn  from  day to day, and may be \\nauthorized  to compel  the Attendance  of absent  Members, \\nin such Manner, and under such Penalties as each House may provide.\\n \\nEach House may determine the Rules of its Proceedings, \\npunish its Members for disorderly Behaviour, and, with the \\nConcurrence of two thirds, expel a Member.  Each House shall keep a Journal of its Proceedings, and \\nfrom  time to time publish the same,  excepting  such Parts \\nas may in their Judgment  require  Secrecy;  and the Yeas \\nand Nays of the Members of either House on any question \\nshall, at the Desire of one fift h of those Present, be entered \\non the Journal.  \\nNeither House, during the Session of Congress, shall, with-  \\nout the Consent of the other, adjourn for more than three \\ndays, nor to any other Place than that in which the two \\nHouses shall be sitting.  \\nSECTION.  6 \\nThe Senators and Representatives shall receive a Compen-  \\nsation for their Services, to be ascertained by Law, and paid \\nout of the Treasury of the United States. They shall in all \\nCases, except Treason, Felony and Breach of the Peace, be privileged from Arrest during their Attendance at the Ses - \\nsion of their respective Houses, and in going to and return-  \\ning from the same; and for any Speech or Debate in either House, they shall not be questioned in any other Place.  \\nNo Senator or Representative shall, duri ng the Time for \\nwhich he was elected, be appointed to any civil Office under the Authority of the United States, which shall have been created, or the Emoluments whereof shall have been \\nencreased during such time; and no Person holding any \\nOffice under the  United States, shall be a Member of either \\nHouse during his Continuance in Office.  ', metadata={'source': '../data/us_constitution.pdf', 'page': 2}),\n",
       " Document(page_content='C O N S T I T U T I O N O F T H E U N I T E D S T A T E S  SECTION.  7 \\nAll Bills for raising Revenue shall originate in the House of \\nRepresentatives; but the Senate may propose or concur with \\nAmendments as o n other Bills  \\nEvery Bill which shall have passed the House of Represen-  \\ntatives and the Senate, shall, before it become a Law, be \\npresented to the President of the United States; If he ap-  \\nprove he shall sign it, but if not he shall return it, with his \\nObjections to tha t House in which it shall have originated, \\nwho shall enter the Objections  at large on their Journal, \\nand proceed to reconsider it. If after such Reconsideration two thirds of that House shall agree to pass the Bill, it shall \\nbe sent, together with the Obje ctions, to the other House, \\nby which it shall likewise be reconsidered, and if approved  \\nby two thirds of that House, it shall become a Law. But in \\nall such Cases the  Votes of both Houses shall be determined \\nby Yeas and Nays, and the Names of the Persons vo ting for \\nand against the Bill shall be entered on the Journal of each \\nHouse respectively, If any Bill shall not be returned by the \\nPresident within ten Days (Sundays excepted) after it shall \\nhave been presented  to him, the Same  shall be a Law, in \\nlike Mann er as if he had signed it, unless the Congress by \\ntheir Adjournment  prevent its Return, in which Case it  shall \\nnot be a Law  \\nEvery Order, Resolution, or Vote to which the Concur-  \\nrence of the Senate and House of Representatives may be \\nnecessary (except on a question of Adjournment) shall be \\npresented to the President of the United States; and before the Same shall take Effect, shall be approved by him, or be - \\ning disapproved by him, shall be repassed by two thirds of the Senate and House of Representatives,  according to the \\nRules and Limitations prescribed in the Case of a Bill.  SECTION.  8 \\nThe Congress  shall have Power  To lay and collect  Taxes, \\nDuties,  Imposts  and Excises,  to pay the Debts and provide \\nfor the common Defence and general Welfare of the United \\nStates;  but all Duties,  Imposts and Excises  shall be uniform \\nthroughout the United States;  \\nTo borrow  Money  on the credit  of the United  States;  \\nTo regulate  Commerce  with foreign  Nations,  and among \\nthe several States, and with the Indian  Tribes;  \\nTo establish  an uniform  Rule of Naturalization,  and uni- \\nform Laws on the subject of Bankruptcies throughout the \\nUnited States;  \\nTo coin Money, regulate the  Value thereof, and of foreign \\nCoin, and fix the Standard of Weights and Measures;  \\nTo provide for the Punishment of counterfeiting the Securi - \\nties and current Coin of the United States; \\nTo establish  Post Offices  and post Roads;  \\nTo promote the Progress of Science and useful Arts, by \\nsecuring for limite d Times to Authors and Inventors the \\nexclusive Right to their respective Writings and Discoveries;  \\nTo constitute  Tribunals  inferior to the supreme  Court;  \\nTo define and punish Piracies and Felonies committed on \\nthe high Seas, and Offenses against the Law of Nations;  \\nTo declare War, grant Letters of Marque and Reprisal, and \\nmake Rules concerning Captures on Land and Water;  \\nTo raise and support Armies, but no Appropriation of Money to that Use shall be for a longer Term than two \\nYears;  \\nTo provide  and maintain  a Navy;  \\nTo make Rules for the Government and Regulation of the \\nland and naval Forces;  \\nTo provide for calling forth the Militia to execute the Laws \\nof the Union, suppress Insurrections and repel Invasions;  \\nTo provide for organizing, arming, and disciplining, the Militia, and for governing such Part of them as may be employed in the Service o f the United States, reserving to \\nthe States respectively, the Appointment of the Officers, \\nand the Authority of training the Militia according to the \\ndiscipline prescribed by Congress; ', metadata={'source': '../data/us_constitution.pdf', 'page': 3}),\n",
       " Document(page_content='C O N S T I T U T I O N O F T H E U N I T E D S T A T E S  To exercise exclusive Legislation in all Case s whatsoever, \\nover such District (not exceeding  ten Miles  square)  as \\nmay, by Cession  of particular  States,  and the Acceptance \\nof Congress, become the Seat of the Government of the \\nUnited States, and to exercise like Authority over all Places \\npurchased by t he Consent of the Legislature of the State in \\nwhich the Same shall be, for the Erection of Forts, Maga - \\nzines, Arsenals, dock -Yards and other needful Buildings;  \\n-And \\nTo make all Laws which shall be necessary and proper for carrying into Execution the foregoing Powers, and all other \\nPowers vested by this Constitution in the Government of \\nthe United States, or in any Department or Officer thereof.  \\nSECTION.  9 \\nThe Migration or Importation of such Persons as any of the \\nStates now existing shall think proper to admit, shall not be \\nprohibited by the Congress prior to the Year one thousand \\neight hundred and eight, but a  Tax or duty may be imposed \\non such Importation, not exceed ing ten dollars for each \\nPerson  \\nThe Privilege of the Writ of Habeas Corpus shall not be \\nsuspended, unless when in Cases of Rebellion or Invasion the public Safety may require it.  \\nNo Bill of Attainder  or ex post facto  Law shall be passed.  \\n[No Capitation, or other direct, Tax shall be laid, unless in \\nProportion to the Census or Enumeration herein before \\ndirected to be taken.]*  \\nNo Tax or Duty shall be laid on Articles exported from any \\nState \\nNo Preference shall be given by any Regulation of Com - \\nmerce or Revenue to the Ports of one State over those of \\nanother: nor shall  Vessels bound to, or from, one State, be \\nobliged to enter, clear, or pay Duties in another.  \\nNo Money shall be drawn from the Treasury, but in Con-  \\nsequence of Appropriations made by Law; and a regular Statement and Account of the Receipts and Expenditures of \\nall public Money shall be published from time to time.  \\nNo Title of Nobility shall be granted by the United States: \\nAnd no Person holding  any Office  of Profit  or Trust  under \\nthem, shall, without the Consent of the Congress, accept  \\nof any present, Emolument, Office, or Title, of any kind whatever, from any King, Prince, or foreign State.  SECTION.  10 \\nNo State shall enter into any  Treaty, Alliance, or Confedera - \\ntion; grant Letters of Marque and Reprisal; coin Money; \\nemit Bills of Cre dit; make any Thing but gold and silver  \\nCoin a Tender in Payment of Debts; pass any Bill of At - \\ntainder, ex post facto Law, or Law impairing the Obligation of Contracts, or grant any Title of Nobility.  \\nNo State  shall,  without  the Consent  of the Congress, lay \\nany Imposts or Duties on Imports or Exports, except what \\nmay be absolutely necessary for executing it’s inspection Laws: and the net Produce of all Duties and Imposts, laid\\n \\nby any State on Imports or Exports, shall be for the Use of the Treasury of the United States; and all such Laws shall be \\nsubject to the Revision and Controul of the Congress.  \\nNo State shall, without the Consent of Congress, lay any Duty of  Tonnage, keep Troops, or Ships of War in time of \\nPeace, enter into any Agreement or Compact wit h another \\nState, or with a foreign Power, or engage in War, unless \\nactually invaded, or in such imminent Danger as will not \\nadmit of delay.  ', metadata={'source': '../data/us_constitution.pdf', 'page': 4})]"
      ]
     },
     "execution_count": 5,
     "metadata": {},
     "output_type": "execute_result"
    }
   ],
   "source": [
    "documents = load_pdf(\"../data/us_constitution.pdf\")\n",
    "documents[:5]"
   ]
  },
  {
   "cell_type": "code",
   "execution_count": 6,
   "metadata": {},
   "outputs": [
    {
     "data": {
      "text/plain": [
       "19"
      ]
     },
     "execution_count": 6,
     "metadata": {},
     "output_type": "execute_result"
    }
   ],
   "source": [
    "len(documents)"
   ]
  },
  {
   "cell_type": "markdown",
   "metadata": {},
   "source": [
    "#### 1.2 Data Splitting"
   ]
  },
  {
   "cell_type": "code",
   "execution_count": 7,
   "metadata": {},
   "outputs": [],
   "source": [
    "\"\"\"\n",
    "Given an array of documents, creates a new array of documents with the specified chunk_size\n",
    "\"\"\"\n",
    "def chunk_documents(documents, chunk_size=256):\n",
    "    from langchain.text_splitter import RecursiveCharacterTextSplitter\n",
    "    text_splitter = RecursiveCharacterTextSplitter(chunk_size=chunk_size, chunk_overlap=0)\n",
    "    chunks = text_splitter.split_documents(documents)\n",
    "    return chunks\n",
    "    # split_documents: splits each document in an array into new documents of the defined chunk size; documents -> documents\n",
    "    # create_documents: splits text into an array of documents; text -> documents"
   ]
  },
  {
   "cell_type": "code",
   "execution_count": 8,
   "metadata": {},
   "outputs": [
    {
     "data": {
      "text/plain": [
       "[Document(page_content='NATIONAL  CONSTITUTION  CENTER   \\n   \\n \\n \\n \\n \\n  \\n \\nTHE  \\nCONSTITUTION  \\nof the United  States', metadata={'source': '../data/us_constitution.pdf', 'page': 0}),\n",
       " Document(page_content='C O N S T I T U T I O N O F T H E U N I T E D S T A T E S   \\n \\n \\n \\nWe the People of the United States, in Order to form a \\nmore perfect Union, establish Justice, insure domestic \\nTranquility, provide for the common defence, promote', metadata={'source': '../data/us_constitution.pdf', 'page': 1}),\n",
       " Document(page_content='the general  Welfare, and secure the Blessings of Liberty to \\nourselves  and our Posterity,  do ordain  and establish  this \\nConstitution for the United States of America  \\n \\n \\nArticle.   I. \\nSECTION.  1', metadata={'source': '../data/us_constitution.pdf', 'page': 1}),\n",
       " Document(page_content='All legislative Powers herein granted shall be vested in a \\nCongress of the United States, which shall consist of a Sen-  \\nate and House of Representatives. \\nSECTI ON. 2 \\nThe House of Representatives shall be composed of Mem-', metadata={'source': '../data/us_constitution.pdf', 'page': 1}),\n",
       " Document(page_content='bers chosen every second Year by the People of the several States, and the Electors in each State shall have the Qualifi-  \\ncations requisite for Electors of the most numerous Branch \\nof the State Legislature.', metadata={'source': '../data/us_constitution.pdf', 'page': 1})]"
      ]
     },
     "execution_count": 8,
     "metadata": {},
     "output_type": "execute_result"
    }
   ],
   "source": [
    "chunked_documents = chunk_documents(documents)\n",
    "chunked_documents[:5]"
   ]
  },
  {
   "cell_type": "code",
   "execution_count": 9,
   "metadata": {},
   "outputs": [
    {
     "data": {
      "text/plain": [
       "247"
      ]
     },
     "execution_count": 9,
     "metadata": {},
     "output_type": "execute_result"
    }
   ],
   "source": [
    "len(chunked_documents)"
   ]
  },
  {
   "cell_type": "markdown",
   "metadata": {},
   "source": [
    "#### 1.3 Chunk Embedding & Storage"
   ]
  },
  {
   "cell_type": "code",
   "execution_count": 10,
   "metadata": {},
   "outputs": [],
   "source": [
    "\"\"\"\n",
    "Given an array of documents, calculates the cost of embedding using ada-002\n",
    "\"\"\"\n",
    "def print_embedding_cost(documents):\n",
    "    import tiktoken\n",
    "    enc = tiktoken.encoding_for_model(\"text-embedding-ada-002\")\n",
    "    total_tokens = sum([len(enc.encode(document.page_content)) for document in documents])\n",
    "    print(f\"Total tokens: {total_tokens}\")\n",
    "    print(f\"Embedding cost in USD: {total_tokens / 1000 * 0.0004:.6f}\")"
   ]
  },
  {
   "cell_type": "code",
   "execution_count": 11,
   "metadata": {},
   "outputs": [
    {
     "name": "stdout",
     "output_type": "stream",
     "text": [
      "Total tokens: 12912\n",
      "Embedding cost in USD: 0.005165\n"
     ]
    }
   ],
   "source": [
    "print_embedding_cost(chunked_documents)"
   ]
  },
  {
   "cell_type": "code",
   "execution_count": 12,
   "metadata": {},
   "outputs": [],
   "source": [
    "\"\"\"\n",
    "Creates a Pinecone index of index_name and a vector store\n",
    "\"\"\"\n",
    "def create_index_and_embeddings(index_name, documents):\n",
    "    import pinecone\n",
    "    from langchain.vectorstores import Pinecone\n",
    "    from langchain.embeddings import OpenAIEmbeddings\n",
    "\n",
    "    embeddings = OpenAIEmbeddings()\n",
    "    pinecone.init(api_key=os.environ.get(\"PINECONE_API_KEY\"), environment=os.environ.get(\"PINECONE_ENV\"))\n",
    "\n",
    "    if index_name in pinecone.list_indexes():\n",
    "        print(f\"{index_name} already exists. Loading embeddings...\")\n",
    "        vector_store = Pinecone.from_documents(documents, index_name=index_name, embedding=embeddings)\n",
    "    else:\n",
    "        print(f\"Creating {index_name} and loading embeddings...\")\n",
    "        pinecone.create_index(index_name, dimension=1536, metric=\"cosine\")\n",
    "        vector_store = Pinecone.from_documents(documents, index_name=index_name, embedding=embeddings)\n",
    "\n",
    "    return vector_store\n",
    "\n",
    "\"\"\"\n",
    "Deletes a Pinecone index\n",
    "\"\"\"\n",
    "def delete_index(index_name=\"all\"):\n",
    "    import pinecone\n",
    "    pinecone.init(api_key=os.environ.get(\"PINECONE_API_KEY\"), environment=os.environ.get(\"PINECONE_ENV\"))\n",
    "\n",
    "    if index_name == \"all\":\n",
    "        print(\"Deleting all indexes...\")\n",
    "        for index in pinecone.list_indexes():\n",
    "            pinecone.delete_index(index)\n",
    "        print(\"Done.\")\n",
    "    else:\n",
    "        print(f\"Deleting {index_name}...\")\n",
    "        pinecone.delete_index(index)\n",
    "        print(\"Done.\")"
   ]
  },
  {
   "cell_type": "code",
   "execution_count": 13,
   "metadata": {},
   "outputs": [
    {
     "name": "stderr",
     "output_type": "stream",
     "text": [
      "/opt/homebrew/Caskroom/miniconda/base/envs/learning_langchain/lib/python3.11/site-packages/pinecone/index.py:4: TqdmWarning: IProgress not found. Please update jupyter and ipywidgets. See https://ipywidgets.readthedocs.io/en/stable/user_install.html\n",
      "  from tqdm.autonotebook import tqdm\n"
     ]
    },
    {
     "name": "stdout",
     "output_type": "stream",
     "text": [
      "Deleting all indexes...\n",
      "Done.\n"
     ]
    }
   ],
   "source": [
    "delete_index()"
   ]
  },
  {
   "cell_type": "code",
   "execution_count": 15,
   "metadata": {},
   "outputs": [
    {
     "name": "stdout",
     "output_type": "stream",
     "text": [
      "ask-a-document already exists. Loading embeddings...\n"
     ]
    }
   ],
   "source": [
    "index_name = \"ask-a-document\"\n",
    "vector_store = create_index_and_embeddings(index_name, chunked_documents)"
   ]
  },
  {
   "cell_type": "markdown",
   "metadata": {},
   "source": [
    "### 2. Search"
   ]
  },
  {
   "cell_type": "markdown",
   "metadata": {},
   "source": [
    "#### 2.1 Embed user query"
   ]
  },
  {
   "cell_type": "markdown",
   "metadata": {},
   "source": [
    "#### 2.2 Use query embedding to find similar vector embeddings in storage"
   ]
  },
  {
   "cell_type": "markdown",
   "metadata": {},
   "source": [
    "### 3. Ask"
   ]
  },
  {
   "cell_type": "markdown",
   "metadata": {},
   "source": [
    "#### 3.1 Insert the question and the relevant chunks into a message to the GPT model"
   ]
  },
  {
   "cell_type": "markdown",
   "metadata": {},
   "source": [
    "#### 3.2 Return the GPT's answer"
   ]
  },
  {
   "cell_type": "code",
   "execution_count": 19,
   "metadata": {},
   "outputs": [],
   "source": [
    "def ask(vector_store, query):\n",
    "    from langchain.chains import RetrievalQA\n",
    "    from langchain.chat_models import ChatOpenAI\n",
    "\n",
    "    llm = ChatOpenAI(\n",
    "        model=\"gpt-3.5-turbo\",\n",
    "        temperature=1\n",
    "    )\n",
    "    retriever = vector_store.as_retriever(search_type=\"similarity\", search_kwargs={\"k\": 3})\n",
    "    chain = RetrievalQA.from_chain_type(llm=llm, chain_type=\"stuff\", retriever=retriever)\n",
    "    return chain.run(query)"
   ]
  },
  {
   "cell_type": "code",
   "execution_count": 20,
   "metadata": {},
   "outputs": [
    {
     "data": {
      "text/plain": [
       "'The document in question is the Constitution of the United States. It establishes the framework of the federal government and outlines the powers and limitations of its three branches: the legislative, executive, and judicial branches. The Constitution also guarantees certain rights and freedoms to the people of the United States, as further detailed in the Bill of Rights, which is a set of amendments to the Constitution.'"
      ]
     },
     "execution_count": 20,
     "metadata": {},
     "output_type": "execute_result"
    }
   ],
   "source": [
    "query = \"What is the whole document about?\"\n",
    "answer = ask(vector_store, query)\n",
    "answer"
   ]
  },
  {
   "cell_type": "code",
   "execution_count": 18,
   "metadata": {},
   "outputs": [
    {
     "name": "stdout",
     "output_type": "stream",
     "text": [
      "Enter q to quit\n",
      "Based on the context provided, some of the rights mentioned include:\n",
      "\n",
      "1. The right to free speech and expression.\n",
      "2. The right to peacefully assemble and petition the government.\n",
      "3. The right to bear arms.\n",
      "4. The right to a fair trial and due process.\n",
      "5. The right to be secure in one's person and property, protected from unreasonable searches and seizures.\n",
      "6. The right to not be forced to incriminate oneself.\n",
      "7. The right to protection against cruel and unusual punishment.\n",
      "8. The right to not have one's private property taken for public use without just compensation.\n",
      "9. The right to not have soldiers quartered in one's home during times of peace without consent.\n",
      "10. The right to have the elected President of the United States preserve, protect, and defend the Constitution. \n",
      "\n",
      "Please note that the above-listed rights are not exhaustive, and there are more rights protected under the United States Constitution.\n",
      "--------------------------------------------------\n",
      "Based on the provided context, I would add further declaratory and restrictive clauses to the Constitution to extend public confidence in the government and ensure the beneficent ends of its institution. Additionally, I would include provisions to establish and maintain magazines, arsenals, dock-yards, and other necessary buildings, as well as the authority to make all laws necessary and proper for carrying out the powers granted by the Constitution.\n",
      "--------------------------------------------------\n",
      "A fun fact from the Constitution is that it was written on parchment paper, which is made from animal skin.\n",
      "--------------------------------------------------\n",
      "Quitting... Bye!\n"
     ]
    }
   ],
   "source": [
    "import time\n",
    "i = 1\n",
    "print(\"Enter q to quit\")\n",
    "while True:\n",
    "    query = input(f\"Question #{i}: \")\n",
    "    if query.lower() == \"q\": \n",
    "        print(\"Quitting... Bye!\")\n",
    "        time.sleep(2)\n",
    "        break\n",
    "    answer = ask(vector_store, query)\n",
    "    print(answer)\n",
    "    print(\"-\" * 50)"
   ]
  },
  {
   "cell_type": "markdown",
   "metadata": {},
   "source": [
    "### 4. Add memory"
   ]
  },
  {
   "cell_type": "code",
   "execution_count": 25,
   "metadata": {},
   "outputs": [],
   "source": [
    "def ask_with_memory(vector_store, query, history=[]):\n",
    "    from langchain.chains import ConversationalRetrievalChain # Built on RetrievalQA, but adds history to the context\n",
    "    from langchain.chat_models import ChatOpenAI\n",
    "    llm = ChatOpenAI(temperature=1)\n",
    "    retriever = vector_store.as_retriever(search_type=\"similarity\", search_kwargs={\"k\": 3})\n",
    "    crc = ConversationalRetrievalChain.from_llm(llm=llm, retriever=retriever)\n",
    "    result = crc({\"question\": query, \"chat_history\": history})\n",
    "    history.append((query, result[\"answer\"]))\n",
    "\n",
    "    return result, history\n"
   ]
  },
  {
   "cell_type": "code",
   "execution_count": 30,
   "metadata": {},
   "outputs": [
    {
     "name": "stdout",
     "output_type": "stream",
     "text": [
      "There are currently 27 amendments in the Constitution of the United States.\n",
      "[('How many amendments are there in the constitution?', 'There are currently 27 amendments in the Constitution of the United States.')]\n"
     ]
    }
   ],
   "source": [
    "history = []\n",
    "question = \"How many amendments are there in the constitution?\"\n",
    "result, history = ask_with_memory(vector_store, question, history)\n",
    "\n",
    "print(result[\"answer\"])\n",
    "print(history)"
   ]
  },
  {
   "cell_type": "code",
   "execution_count": 31,
   "metadata": {},
   "outputs": [
    {
     "name": "stdout",
     "output_type": "stream",
     "text": [
      "The number of amendments in the Constitution is 27. If you multiply this number by 2, the result is 54.\n",
      "[('How many amendments are there in the constitution?', 'There are currently 27 amendments in the Constitution of the United States.'), ('Multiply that by 2', 'The number of amendments in the Constitution is 27. If you multiply this number by 2, the result is 54.')]\n"
     ]
    }
   ],
   "source": [
    "question = \"Multiply that by 2\"\n",
    "result, history = ask_with_memory(vector_store, question, history)\n",
    "\n",
    "print(result[\"answer\"])\n",
    "print(history)"
   ]
  }
 ],
 "metadata": {
  "kernelspec": {
   "display_name": "learning_langchain",
   "language": "python",
   "name": "python3"
  },
  "language_info": {
   "codemirror_mode": {
    "name": "ipython",
    "version": 3
   },
   "file_extension": ".py",
   "mimetype": "text/x-python",
   "name": "python",
   "nbconvert_exporter": "python",
   "pygments_lexer": "ipython3",
   "version": "3.11.4"
  },
  "orig_nbformat": 4
 },
 "nbformat": 4,
 "nbformat_minor": 2
}
